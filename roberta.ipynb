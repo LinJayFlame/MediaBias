{
 "cells": [
  {
   "cell_type": "markdown",
   "metadata": {},
   "source": [
    "## Activate virtual environment first through venv/Scripts/activate"
   ]
  },
  {
   "cell_type": "code",
   "execution_count": 26,
   "metadata": {},
   "outputs": [
    {
     "name": "stderr",
     "output_type": "stream",
     "text": [
      "Device set to use cpu\n"
     ]
    },
    {
     "name": "stdout",
     "output_type": "stream",
     "text": [
      "[{'label': 'POSITIVE', 'score': 0.9988656044006348}]\n"
     ]
    }
   ],
   "source": [
    "from transformers import pipeline\n",
    "\n",
    "sentiment_analysis = pipeline(\"sentiment-analysis\",model=\"siebert/sentiment-roberta-large-english\")\n",
    "\n",
    "print(sentiment_analysis(\"I love this!\"))"
   ]
  },
  {
   "cell_type": "code",
   "execution_count": 1,
   "metadata": {},
   "outputs": [],
   "source": [
    "# Import required packages\n",
    "import torch\n",
    "import pandas as pd\n",
    "import numpy as np\n",
    "from transformers import AutoTokenizer, AutoModelForSequenceClassification, Trainer\n",
    "\n",
    "# Create class for data preparation\n",
    "class SimpleDataset:\n",
    "    def __init__(self, tokenized_texts):\n",
    "        self.tokenized_texts = tokenized_texts\n",
    "    \n",
    "    def __len__(self):\n",
    "        return len(self.tokenized_texts[\"input_ids\"])\n",
    "    \n",
    "    def __getitem__(self, idx):\n",
    "        return {k: v[idx] for k, v in self.tokenized_texts.items()}"
   ]
  },
  {
   "cell_type": "code",
   "execution_count": 2,
   "metadata": {},
   "outputs": [],
   "source": [
    "model_name = \"siebert/sentiment-roberta-large-english\"\n",
    "tokenizer = AutoTokenizer.from_pretrained(model_name)\n",
    "model = AutoModelForSequenceClassification.from_pretrained(model_name)\n",
    "trainer = Trainer(model=model)"
   ]
  },
  {
   "cell_type": "code",
   "execution_count": 4,
   "metadata": {},
   "outputs": [],
   "source": [
    "import tqdm\n",
    "\n",
    "data = pd.read_csv(\"bbc-text-1.csv\")\n",
    "tech = data[data[\"category\"] == \"tech\"]\n",
    "df1 = pd.DataFrame(tech)\n",
    "pred_texts = list(df1[\"text\"][0:5])\n",
    "\n",
    "tokenized_texts = tokenizer(pred_texts,truncation=True,padding=True)\n",
    "pred_dataset = SimpleDataset(tokenized_texts)"
   ]
  },
  {
   "cell_type": "code",
   "execution_count": 5,
   "metadata": {},
   "outputs": [
    {
     "data": {
      "text/html": [],
      "text/plain": [
       "<IPython.core.display.HTML object>"
      ]
     },
     "metadata": {},
     "output_type": "display_data"
    }
   ],
   "source": [
    "predictions = trainer.predict(pred_dataset)"
   ]
  },
  {
   "cell_type": "code",
   "execution_count": 6,
   "metadata": {},
   "outputs": [],
   "source": [
    "preds = predictions.predictions.argmax(-1)\n",
    "labels = pd.Series(preds).map(model.config.id2label)\n",
    "scores = (np.exp(predictions[0])/np.exp(predictions[0]).sum(-1,keepdims=True)).max(1)"
   ]
  },
  {
   "cell_type": "code",
   "execution_count": 8,
   "metadata": {},
   "outputs": [
    {
     "data": {
      "text/plain": [
       "'halo 2 heralds traffic explosion the growing popularity of online gaming could spell problems for net service firms  warns network monitoring company sandvine.  it issued the warning following analysis which shows that traffic on the xbox game network increased fourfold on the launch day of halo 2. the 9 november traffic explosion has continued into december  said sandvine. service providers now need to make sure that their networks can cope with the increasing demands for bandwidth. as well as being a popular single-player title  halo 2 can be connected to microsoft s subscription-based broadband network  xbox live. gamers who want to play online can create their own clan  or team  and take on others to see how well they compare.  but the surge in numbers and huge demands for bandwidth should be a wake-up call to the industry which must ensure that their networks can cope with the increases in traffic  said sandvine s chief technology officer marc morin.  in a bid to cope and ease congestion  providers are increasingly making their networks intelligent  finding out who is using bandwidth and for what. it could become common to charge people for the amount of bandwidth they use.  the explosion in xbox live traffic attributed to halo 2 should be seen as a clarion call   he said.  isps need to enhance the broadband experience for these high-end users by prioritising or reserving bandwidth for games   he added.  one of the main factors that spoils online gaming is  lag  in which there is a noticeable delay between a gamer clicking on a mouse or keyboard and what happens in the online gaming world. gamers tend to migrate toward networks with the lowest  lag . analysing traffic will become increasingly important for service providers if they are to hold on to bandwidth-hungry gamers said lindsay schroth  an analyst with research firm the yankee group.  in the competitive broadband environment  operators need to differentiate the way they offer access to services like live-play gaming   she said. in countries such as korea  which has high levels of fast net connections to homes  online gaming is hugely popular.'"
      ]
     },
     "execution_count": 8,
     "metadata": {},
     "output_type": "execute_result"
    }
   ],
   "source": [
    "df = pd.DataFrame(list(zip(pred_texts,preds,labels,scores)), columns=['text','pred','label','score'])\n",
    "df.head()\n",
    "df[\"text\"][3]"
   ]
  }
 ],
 "metadata": {
  "kernelspec": {
   "display_name": "venv",
   "language": "python",
   "name": "python3"
  },
  "language_info": {
   "codemirror_mode": {
    "name": "ipython",
    "version": 3
   },
   "file_extension": ".py",
   "mimetype": "text/x-python",
   "name": "python",
   "nbconvert_exporter": "python",
   "pygments_lexer": "ipython3",
   "version": "3.12.3"
  }
 },
 "nbformat": 4,
 "nbformat_minor": 2
}
